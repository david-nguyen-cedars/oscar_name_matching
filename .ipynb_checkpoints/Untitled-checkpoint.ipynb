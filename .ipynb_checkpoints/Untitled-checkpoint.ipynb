{
 "cells": [
  {
   "cell_type": "code",
   "execution_count": 1,
   "id": "36eae801-d533-42a7-bdee-88e823212621",
   "metadata": {},
   "outputs": [],
   "source": [
    "'''\n",
    "IMPORT LIBRARIES AND PACKAGES \n",
    "'''\n",
    "#libraries for data manipulation and analysis \n",
    "import pandas as pd \n",
    "import numpy as np\n",
    "from collections import Counter\n",
    "import math\n",
    "\n",
    "#libraries for date and time handling \n",
    "from dateutil import parser\n",
    "import datetime\n",
    "\n",
    "\n",
    "#libraries for excel formatting \n",
    "from openpyxl.utils.cell import get_column_letter\n",
    "from openpyxl import load_workbook\n",
    "from openpyxl.styles import PatternFill\n",
    "from openpyxl.formatting.rule import CellIsRule\n",
    "import xlsxwriter\n",
    "\n",
    "\n",
    "#libraries for string similarity and fuzzy matching \n",
    "import jellyfish\n",
    "from Levenshtein import distance as ld\n",
    "from fuzzywuzzy import fuzz\n",
    "import textdistance as td\n",
    "\n",
    "#libraries with general utility functions \n",
    "import random\n",
    "import os\n",
    "from termcolor import cprint\n",
    "from collections import _count_elements \n",
    "from collections import Counter"
   ]
  },
  {
   "cell_type": "code",
   "execution_count": 2,
   "id": "ce44e79f-f6cb-4644-a21c-572eeec1e9c2",
   "metadata": {},
   "outputs": [],
   "source": [
    "#variables for output files\n",
    "file_modifier = \"david_test_07_24_2025\"\n",
    "output_pathway = r'C:\\Users\\NguyenD29\\OneDrive - Cedars-Sinai Health System\\Documents\\Trainings\\Marco Documentation\\OSCAR_name_matching\\oscar_name_matching\\outputs' \n",
    "\n",
    "#flags\n",
    "remove_var = 1 \n",
    "drop_pat_ids = 1"
   ]
  },
  {
   "cell_type": "code",
   "execution_count": 4,
   "id": "aabb11e0-3d26-47e3-97ab-6983eeb6d6c8",
   "metadata": {},
   "outputs": [],
   "source": [
    "#read in files - mr: medical records, dc: death certificates \n",
    "mr_df =  pd.read_excel(r\"C:\\Users\\NguyenD29\\OneDrive - Cedars-Sinai Health System\\Documents\\Trainings\\Marco Documentation\\OSCAR_name_matching\\oscar_name_matching\\data\\ForDeathCertMatch_7_17_2025.xlsx\", dtype = 'string')\n",
    "dc_df = matchto = pd.read_excel(r\"C:\\Users\\NguyenD29\\OneDrive - Cedars-Sinai Health System\\Documents\\Trainings\\Marco Documentation\\OSCAR_name_matching\\oscar_name_matching\\data\\Norby_CCDF_040125_063025.xlsx\", dtype = 'string')\n",
    "gender_df = pd.read_excel(r\"C:\\Users\\NguyenD29\\OneDrive - Cedars-Sinai Health System\\Documents\\Trainings\\Marco Documentation\\OSCAR_name_matching\\oscar_name_matching\\data\\oscar_gender.xlsx\", dtype={'strMRN' : str, 'gender' : str})"
   ]
  },
  {
   "cell_type": "code",
   "execution_count": 13,
   "id": "4f814c64-c959-4d4e-97dc-87afa184300f",
   "metadata": {},
   "outputs": [
    {
     "name": "stdout",
     "output_type": "stream",
     "text": [
      "No column overlap detected\n"
     ]
    }
   ],
   "source": [
    "#checking for columns with same name in medical records and death certificate files \n",
    "overlap = set(mr_df.columns) & set(dc_df.columns)\n",
    "\n",
    "#if there is an overlap\n",
    "if len(overlap) > 0:\n",
    "    #rename column in dc_df (we will match to it later) \n",
    "    raise Exception(f'Column overlap detected: {overlap}. Renaming in death certificates dataframe')\n",
    "\n",
    "    for col in overlap:\n",
    "        dc_df = dc_df.rename(columns = {col: col+'_matchto'})\n",
    "        print(f'Renaming column from {col} to {col+\"_matchto\"}') \n",
    "else: \n",
    "    print('No column overlap detected')"
   ]
  },
  {
   "cell_type": "code",
   "execution_count": 16,
   "id": "576411e9-b98e-470a-907b-4df4dde33f73",
   "metadata": {},
   "outputs": [],
   "source": [
    "#checking for commas in column names - need to change them in the input file \n",
    "erroneouslist_dc = list()\n",
    "for col in list(dc_df.columns):\n",
    "    if ',' in col:\n",
    "        erroneouslist_dc.append(col)\n",
    "        \n",
    "erroneouslist_mr = list()\n",
    "for col in list(mr_df.columns):\n",
    "    if ',' in col:\n",
    "        erroneouslist_mr.append(col)\n",
    "    \n",
    "if len(erroneouslist_dc) > 0:\n",
    "    raise Exception('PLEASE FIX:\\nThere are commas (,) found in the following dc_df columns: {}\\nThese will cause problems later down the line. Please manually change them in the input file.'.format(erroneouslist_dc))\n",
    "if len(erroneouslist_mr) > 0:\n",
    "    raise Exception('PLEASE FIX:\\nThere are commas (,) found in the following mr_df columns: {}\\nThese will cause problems later down the line. Please manually change them in the input file.'.format(erroneouslist_mr))\n"
   ]
  },
  {
   "cell_type": "code",
   "execution_count": 20,
   "id": "546fcf2d-e736-4805-869f-694911bb5391",
   "metadata": {},
   "outputs": [],
   "source": [
    "def split_patient_names(df):\n",
    "    '''\n",
    "    helper function to split patient name into first middle and last \n",
    "    '''\n",
    "    if 'PAT_NAME' in df.columns:\n",
    "        df['First Name'] = df['PAT_NAME'].apply(lambda x : x.split(',')[1].split(' ')[0])\n",
    "        df['Middle Name'] = df['PAT_NAME'].apply(lambda x : x.split(',')[1].split(' ')[1] if ' ' in x.split(',')[1] else None)\n",
    "        df['Last Name'] = df['PAT_NAME'].apply(lambda x : x.split(',')[0])\n",
    "    else:\n",
    "        print('PAT_NAME not in df cols')\n",
    "\n",
    "#split patient name in medical records dataframe\n",
    "split_patient_names(mr_df)"
   ]
  },
  {
   "cell_type": "code",
   "execution_count": null,
   "id": "ee7cb542-612f-4cd7-be99-6687d6870103",
   "metadata": {},
   "outputs": [],
   "source": [
    "'''\n",
    "SPECIAL SECTION FOR DEATH CERTIFICATES - cleaning up the cols containing ssn \n",
    "'''\n",
    "\n",
    "def ssncleaner(x):\n",
    "    '''\n",
    "    helper function to clean up SSN \n",
    "    '''\n",
    "    \n",
    "    x = x.replace('.0', '')\n",
    "    if x in over4:\n",
    "        return None\n",
    "    if x == '0' or x == 0:\n",
    "        return None\n",
    "    \n",
    "    while len(x) != 9:\n",
    "        x='0'+str(x)\n",
    "\n",
    "    \n",
    "    d={}\n",
    "    _count_elements(d, x)\n",
    "    if '0' in d.keys() and d['0'] > 6:\n",
    "        return None\n",
    "    elif '1' in d.keys() and d['1'] > 7:\n",
    "        return None\n",
    "    elif '9' in d.keys() and d['9'] > 6:\n",
    "        return None\n",
    "    elif list(d.keys()) == ['0', '1']:  #If ssn composed of 1,0 only - return None\n",
    "        return None\n",
    "    \n",
    "    else:\n",
    "        return x"
   ]
  },
  {
   "cell_type": "code",
   "execution_count": 48,
   "id": "824da968-66c0-4923-b055-ecb09bf93e36",
   "metadata": {},
   "outputs": [
    {
     "data": {
      "text/plain": [
       "['000000001',\n",
       " '111111111',\n",
       " '000000000',\n",
       " '999999999',\n",
       " '011111111',\n",
       " '111111110',\n",
       " '000000011',\n",
       " '555555555',\n",
       " '<NA>',\n",
       " 'nan',\n",
       " None,\n",
       " '123456789']"
      ]
     },
     "execution_count": 48,
     "metadata": {},
     "output_type": "execute_result"
    }
   ],
   "source": [
    "#cleaning up SSN\n",
    "\n",
    "#getting rid of dashes in SSN columns\n",
    "dc_df['F31'] = dc_df['F31'].apply(lambda x: str(x).replace('-','')) \n",
    "mr_df['SSN'] = mr_df['SSN'].apply(lambda x: str(x).replace('-','')) \n",
    "\n",
    "#collect invalid ssn's --> threshold is that there are more than 4 people with the same SSN \n",
    "temp = mr_df['SSN'].value_counts().to_frame().reset_index()\n",
    "invalid_ssns = temp[temp['count'] > 4]['SSN'].to_list()\n",
    "invalid_ssns += ['<NA>', 'nan', None, str(123456789)] #also include nulls as invalid \n",
    "\n",
    "\n"
   ]
  },
  {
   "cell_type": "code",
   "execution_count": 37,
   "id": "bdaf772f-6854-4308-8f68-071b3fc83aaa",
   "metadata": {},
   "outputs": [
    {
     "data": {
      "text/plain": [
       "0         304265303\n",
       "1         602404043\n",
       "2         546354984\n",
       "3         570414835\n",
       "4         453958531\n",
       "            ...    \n",
       "347129    547921767\n",
       "347130    609035177\n",
       "347131    000000001\n",
       "347132    000000001\n",
       "347133    000000001\n",
       "Name: SSN, Length: 347134, dtype: object"
      ]
     },
     "execution_count": 37,
     "metadata": {},
     "output_type": "execute_result"
    }
   ],
   "source": [
    "mr_df['SSN']"
   ]
  },
  {
   "cell_type": "code",
   "execution_count": null,
   "id": "19b83c9a-84c9-4f5a-9ae0-e6f858b14188",
   "metadata": {},
   "outputs": [],
   "source": []
  },
  {
   "cell_type": "code",
   "execution_count": null,
   "id": "75a741a4-9f5d-4257-8850-b4d73809e520",
   "metadata": {},
   "outputs": [],
   "source": []
  },
  {
   "cell_type": "code",
   "execution_count": null,
   "id": "184e57e9-f444-4e81-830e-b4dc87d1f364",
   "metadata": {},
   "outputs": [],
   "source": []
  },
  {
   "cell_type": "code",
   "execution_count": null,
   "id": "9c3e95fb-45f3-4678-9d6d-18faf1e258d8",
   "metadata": {},
   "outputs": [],
   "source": []
  },
  {
   "cell_type": "code",
   "execution_count": null,
   "id": "5d8bbf73-a2cc-4169-940e-46401b5ae395",
   "metadata": {},
   "outputs": [],
   "source": []
  },
  {
   "cell_type": "code",
   "execution_count": 24,
   "id": "bb2cefb2-6497-4c16-9668-cf521d7a88e0",
   "metadata": {},
   "outputs": [
    {
     "data": {
      "text/plain": [
       "0         304-26-5303\n",
       "1         602-40-4043\n",
       "2         546-35-4984\n",
       "3         570-41-4835\n",
       "4         453-95-8531\n",
       "             ...     \n",
       "347129    547-92-1767\n",
       "347130    609-03-5177\n",
       "347131    000-00-0001\n",
       "347132    000-00-0001\n",
       "347133    000-00-0001\n",
       "Name: SSN, Length: 347134, dtype: string"
      ]
     },
     "execution_count": 24,
     "metadata": {},
     "output_type": "execute_result"
    }
   ],
   "source": []
  },
  {
   "cell_type": "code",
   "execution_count": null,
   "id": "7cc32240-ae20-4e54-8883-0fd76fecd431",
   "metadata": {},
   "outputs": [],
   "source": []
  }
 ],
 "metadata": {
  "kernelspec": {
   "display_name": "Python (oscar_venv)",
   "language": "python",
   "name": "oscar_venv"
  },
  "language_info": {
   "codemirror_mode": {
    "name": "ipython",
    "version": 3
   },
   "file_extension": ".py",
   "mimetype": "text/x-python",
   "name": "python",
   "nbconvert_exporter": "python",
   "pygments_lexer": "ipython3",
   "version": "3.13.5"
  }
 },
 "nbformat": 4,
 "nbformat_minor": 5
}
